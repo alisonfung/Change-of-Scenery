{
  "nbformat": 4,
  "nbformat_minor": 0,
  "metadata": {
    "colab": {
      "provenance": [],
      "include_colab_link": true
    },
    "kernelspec": {
      "name": "python3",
      "display_name": "Python 3"
    },
    "language_info": {
      "name": "python"
    }
  },
  "cells": [
    {
      "cell_type": "markdown",
      "metadata": {
        "id": "view-in-github",
        "colab_type": "text"
      },
      "source": [
        "<a href=\"https://colab.research.google.com/github/alisonfung/Change-of-Scenery/blob/Welcome/Assignment_ClassificationHyperParameterTuning_TeHsin_Kung.ipynb\" target=\"_parent\"><img src=\"https://colab.research.google.com/assets/colab-badge.svg\" alt=\"Open In Colab\"/></a>"
      ]
    },
    {
      "cell_type": "code",
      "metadata": {
        "id": "58ks4zyxbY6A"
      },
      "source": [
        "##############################################\n",
        "# Programmer Name:  Te Hsin Kung\n",
        "# Class: CIS4321\n",
        "# Programming Assignment: Decision Tree Hyper Parameter\n",
        "# Date:10 Nov 2021\n",
        "##############################################"
      ],
      "execution_count": null,
      "outputs": []
    },
    {
      "cell_type": "code",
      "metadata": {
        "id": "Qu6F5DPY-4yp"
      },
      "source": [
        "# import required libraries\n",
        "import numpy as np\n",
        "import pandas as pd\n",
        "import seaborn as sns\n",
        "import statsmodels.api as sm\n",
        "import matplotlib.pyplot as plt\n",
        "from statsmodels.tools.eval_measures import rmse\n",
        "np.set_printoptions(suppress=True)\n",
        "pd.set_option('display.float_format', lambda x: '%.5f' % x)\n",
        "sns.set(style='whitegrid', palette=\"deep\", font_scale=1.1, rc={\"figure.figsize\": [15, 12]})\n",
        "%matplotlib inline\n",
        "import warnings\n",
        "warnings.filterwarnings('ignore')\n",
        "from sklearn import metrics\n",
        "pd.set_option('display.float_format', lambda x: '%.5f' % x)\n",
        "sns.set(style='whitegrid', palette=\"deep\", font_scale=1.1, rc={\"figure.figsize\": [10, 8]})"
      ],
      "execution_count": null,
      "outputs": []
    },
    {
      "cell_type": "markdown",
      "metadata": {
        "id": "yOilKxMtbY6M"
      },
      "source": [
        "### **In this assignment you will be using `apple.csv` dataset contains 31 stock buying attribute. The target variable is called `buy` and its a binary label [0,1].**\n",
        "\n",
        "- Using this dataset perform the following tasks:"
      ]
    },
    {
      "cell_type": "code",
      "metadata": {
        "id": "uFMfIKVI-JbD"
      },
      "source": [
        "# import dataset\n",
        "df = pd.read_csv('/content/apple.csv')"
      ],
      "execution_count": null,
      "outputs": []
    },
    {
      "cell_type": "code",
      "metadata": {
        "colab": {
          "base_uri": "https://localhost:8080/",
          "height": 223
        },
        "id": "pQ72_5xLAWNp",
        "outputId": "e1e3a2aa-b862-475b-d7e3-f7f45e790e66"
      },
      "source": [
        "df.head()"
      ],
      "execution_count": null,
      "outputs": [
        {
          "output_type": "execute_result",
          "data": {
            "text/html": [
              "<div>\n",
              "<style scoped>\n",
              "    .dataframe tbody tr th:only-of-type {\n",
              "        vertical-align: middle;\n",
              "    }\n",
              "\n",
              "    .dataframe tbody tr th {\n",
              "        vertical-align: top;\n",
              "    }\n",
              "\n",
              "    .dataframe thead th {\n",
              "        text-align: right;\n",
              "    }\n",
              "</style>\n",
              "<table border=\"1\" class=\"dataframe\">\n",
              "  <thead>\n",
              "    <tr style=\"text-align: right;\">\n",
              "      <th></th>\n",
              "      <th>close</th>\n",
              "      <th>volume</th>\n",
              "      <th>SMA_10</th>\n",
              "      <th>SMA_50</th>\n",
              "      <th>SMA_200</th>\n",
              "      <th>EMA_10</th>\n",
              "      <th>EMA_50</th>\n",
              "      <th>EMA_200</th>\n",
              "      <th>macd</th>\n",
              "      <th>signal</th>\n",
              "      <th>divergence</th>\n",
              "      <th>PPO</th>\n",
              "      <th>RSI</th>\n",
              "      <th>dn</th>\n",
              "      <th>mavg</th>\n",
              "      <th>up</th>\n",
              "      <th>pctB</th>\n",
              "      <th>fastK</th>\n",
              "      <th>fastD</th>\n",
              "      <th>slowD</th>\n",
              "      <th>KDJ</th>\n",
              "      <th>SMI</th>\n",
              "      <th>signal.1</th>\n",
              "      <th>MAD</th>\n",
              "      <th>WPR</th>\n",
              "      <th>CCI</th>\n",
              "      <th>adx</th>\n",
              "      <th>Typical_Price</th>\n",
              "      <th>Money_Flow_Ratio</th>\n",
              "      <th>Money_Flow_Index</th>\n",
              "      <th>buy</th>\n",
              "    </tr>\n",
              "  </thead>\n",
              "  <tbody>\n",
              "    <tr>\n",
              "      <th>0</th>\n",
              "      <td>71.58714</td>\n",
              "      <td>62775300</td>\n",
              "      <td>70.00000</td>\n",
              "      <td>69.41100</td>\n",
              "      <td>65.09089</td>\n",
              "      <td>70.28966</td>\n",
              "      <td>68.48964</td>\n",
              "      <td>65.09089</td>\n",
              "      <td>0.65911</td>\n",
              "      <td>0.41071</td>\n",
              "      <td>0.24840</td>\n",
              "      <td>0.94877</td>\n",
              "      <td>60.88572</td>\n",
              "      <td>67.16386</td>\n",
              "      <td>69.45871</td>\n",
              "      <td>71.75357</td>\n",
              "      <td>0.96374</td>\n",
              "      <td>0.94950</td>\n",
              "      <td>0.92090</td>\n",
              "      <td>0.88152</td>\n",
              "      <td>1.00670</td>\n",
              "      <td>72.10132</td>\n",
              "      <td>46.23604</td>\n",
              "      <td>0.31293</td>\n",
              "      <td>-5.04981</td>\n",
              "      <td>177.16726</td>\n",
              "      <td>11.00177</td>\n",
              "      <td>71.56524</td>\n",
              "      <td>-1.97105</td>\n",
              "      <td>202.98091</td>\n",
              "      <td>0</td>\n",
              "    </tr>\n",
              "    <tr>\n",
              "      <th>1</th>\n",
              "      <td>72.07143</td>\n",
              "      <td>63398300</td>\n",
              "      <td>70.30128</td>\n",
              "      <td>69.52391</td>\n",
              "      <td>65.05908</td>\n",
              "      <td>70.61362</td>\n",
              "      <td>68.63010</td>\n",
              "      <td>65.16034</td>\n",
              "      <td>0.76527</td>\n",
              "      <td>0.48162</td>\n",
              "      <td>0.28365</td>\n",
              "      <td>1.09855</td>\n",
              "      <td>62.70957</td>\n",
              "      <td>67.31592</td>\n",
              "      <td>69.68871</td>\n",
              "      <td>72.06151</td>\n",
              "      <td>1.00209</td>\n",
              "      <td>0.99078</td>\n",
              "      <td>0.93998</td>\n",
              "      <td>0.91884</td>\n",
              "      <td>1.09238</td>\n",
              "      <td>81.55566</td>\n",
              "      <td>52.65779</td>\n",
              "      <td>0.39383</td>\n",
              "      <td>-0.92199</td>\n",
              "      <td>178.80187</td>\n",
              "      <td>11.23645</td>\n",
              "      <td>71.85524</td>\n",
              "      <td>-2.60140</td>\n",
              "      <td>162.44518</td>\n",
              "      <td>0</td>\n",
              "    </tr>\n",
              "    <tr>\n",
              "      <th>2</th>\n",
              "      <td>72.69857</td>\n",
              "      <td>72635500</td>\n",
              "      <td>70.67071</td>\n",
              "      <td>69.66071</td>\n",
              "      <td>65.03536</td>\n",
              "      <td>70.99270</td>\n",
              "      <td>68.78965</td>\n",
              "      <td>65.23535</td>\n",
              "      <td>0.88976</td>\n",
              "      <td>0.56325</td>\n",
              "      <td>0.32651</td>\n",
              "      <td>1.27314</td>\n",
              "      <td>64.98645</td>\n",
              "      <td>67.66327</td>\n",
              "      <td>69.98500</td>\n",
              "      <td>72.30673</td>\n",
              "      <td>1.08439</td>\n",
              "      <td>0.98806</td>\n",
              "      <td>0.97611</td>\n",
              "      <td>0.94567</td>\n",
              "      <td>1.01194</td>\n",
              "      <td>88.07179</td>\n",
              "      <td>59.09670</td>\n",
              "      <td>0.51946</td>\n",
              "      <td>-1.19432</td>\n",
              "      <td>207.60716</td>\n",
              "      <td>11.89597</td>\n",
              "      <td>72.56476</td>\n",
              "      <td>-3.71626</td>\n",
              "      <td>136.81527</td>\n",
              "      <td>0</td>\n",
              "    </tr>\n",
              "    <tr>\n",
              "      <th>3</th>\n",
              "      <td>74.48000</td>\n",
              "      <td>99526700</td>\n",
              "      <td>71.15086</td>\n",
              "      <td>69.85189</td>\n",
              "      <td>65.03133</td>\n",
              "      <td>71.62676</td>\n",
              "      <td>69.01280</td>\n",
              "      <td>65.32734</td>\n",
              "      <td>1.11926</td>\n",
              "      <td>0.67445</td>\n",
              "      <td>0.44481</td>\n",
              "      <td>1.59377</td>\n",
              "      <td>70.49701</td>\n",
              "      <td>67.16525</td>\n",
              "      <td>70.20443</td>\n",
              "      <td>73.24360</td>\n",
              "      <td>1.20341</td>\n",
              "      <td>0.93611</td>\n",
              "      <td>0.97165</td>\n",
              "      <td>0.96258</td>\n",
              "      <td>0.86504</td>\n",
              "      <td>89.12734</td>\n",
              "      <td>64.55681</td>\n",
              "      <td>0.67220</td>\n",
              "      <td>-6.38851</td>\n",
              "      <td>241.69470</td>\n",
              "      <td>13.68338</td>\n",
              "      <td>74.15143</td>\n",
              "      <td>-3.79903</td>\n",
              "      <td>135.72671</td>\n",
              "      <td>0</td>\n",
              "    </tr>\n",
              "    <tr>\n",
              "      <th>4</th>\n",
              "      <td>74.26714</td>\n",
              "      <td>133515900</td>\n",
              "      <td>71.70700</td>\n",
              "      <td>70.00191</td>\n",
              "      <td>65.02845</td>\n",
              "      <td>72.10683</td>\n",
              "      <td>69.21885</td>\n",
              "      <td>65.41629</td>\n",
              "      <td>1.26933</td>\n",
              "      <td>0.79343</td>\n",
              "      <td>0.47591</td>\n",
              "      <td>1.79979</td>\n",
              "      <td>69.09764</td>\n",
              "      <td>66.91390</td>\n",
              "      <td>70.42421</td>\n",
              "      <td>73.93453</td>\n",
              "      <td>1.04738</td>\n",
              "      <td>0.82898</td>\n",
              "      <td>0.91772</td>\n",
              "      <td>0.95516</td>\n",
              "      <td>0.65151</td>\n",
              "      <td>81.75685</td>\n",
              "      <td>67.68409</td>\n",
              "      <td>0.83472</td>\n",
              "      <td>-17.10187</td>\n",
              "      <td>184.45461</td>\n",
              "      <td>15.60401</td>\n",
              "      <td>74.11191</td>\n",
              "      <td>-2.09206</td>\n",
              "      <td>191.56988</td>\n",
              "      <td>0</td>\n",
              "    </tr>\n",
              "  </tbody>\n",
              "</table>\n",
              "</div>"
            ],
            "text/plain": [
              "     close     volume   SMA_10  ...  Money_Flow_Ratio  Money_Flow_Index  buy\n",
              "0 71.58714   62775300 70.00000  ...          -1.97105         202.98091    0\n",
              "1 72.07143   63398300 70.30128  ...          -2.60140         162.44518    0\n",
              "2 72.69857   72635500 70.67071  ...          -3.71626         136.81527    0\n",
              "3 74.48000   99526700 71.15086  ...          -3.79903         135.72671    0\n",
              "4 74.26714  133515900 71.70700  ...          -2.09206         191.56988    0\n",
              "\n",
              "[5 rows x 31 columns]"
            ]
          },
          "metadata": {},
          "execution_count": 96
        }
      ]
    },
    {
      "cell_type": "markdown",
      "metadata": {
        "id": "plMrsD_MbY6O"
      },
      "source": [
        "### 1. Partition the data set to X, y and split the dataset into train and test datasets\n"
      ]
    },
    {
      "cell_type": "code",
      "metadata": {
        "id": "2fyMlliHbY6P"
      },
      "source": [
        "# define X and y\n",
        "X = df.drop(columns=['buy'])\n",
        "y = df['buy']\n",
        "\n"
      ],
      "execution_count": null,
      "outputs": []
    },
    {
      "cell_type": "code",
      "metadata": {
        "id": "D--5bdJnA4FD"
      },
      "source": [
        "# import triain_test_split class\n",
        "#spliting data into 70% for training and 30% for testing\n",
        "from sklearn.model_selection import train_test_split\n",
        "X_train, X_test, y_train, y_test = train_test_split(X, y, test_size=0.3, random_state=10)"
      ],
      "execution_count": null,
      "outputs": []
    },
    {
      "cell_type": "markdown",
      "metadata": {
        "id": "hg-C0CwjbY6P"
      },
      "source": [
        "### 2. Construct a dummy classifier with most frequent as the strategy and report classifier performance.\n"
      ]
    },
    {
      "cell_type": "code",
      "metadata": {
        "id": "sVQqzLiUbY6Q"
      },
      "source": [
        "# import dummyclassifier class and construct with most freq\n",
        "from sklearn.dummy import DummyClassifier\n",
        "dummy = DummyClassifier(strategy='most_frequent', random_state=0)"
      ],
      "execution_count": null,
      "outputs": []
    },
    {
      "cell_type": "code",
      "metadata": {
        "colab": {
          "base_uri": "https://localhost:8080/"
        },
        "id": "bHXFYhuLCRuZ",
        "outputId": "57166b67-6648-4b2d-bd60-161eb878c806"
      },
      "source": [
        "# fitting the data\n",
        "dummy.fit(X_train, y_train)\n",
        "\n",
        "# predicting the response\n",
        "dummy_perd = dummy.predict(y_test)\n",
        "\n",
        "# calculating the score\n",
        "dummy.score(X_test, y_test)"
      ],
      "execution_count": null,
      "outputs": [
        {
          "output_type": "execute_result",
          "data": {
            "text/plain": [
              "0.5042372881355932"
            ]
          },
          "metadata": {},
          "execution_count": 100
        }
      ]
    },
    {
      "cell_type": "markdown",
      "metadata": {
        "id": "wSt94ytZbY6Q"
      },
      "source": [
        "### 3. Construct a decision tree with the default parameters.\n"
      ]
    },
    {
      "cell_type": "code",
      "metadata": {
        "id": "_Cx2q32KbY6R",
        "colab": {
          "base_uri": "https://localhost:8080/"
        },
        "outputId": "db05ee58-6e90-4939-b75d-b0789536eb26"
      },
      "source": [
        "# import decision tree class\n",
        "from sklearn.tree import DecisionTreeClassifier\n",
        "\n",
        "# fit desicion tree model\n",
        "dt_model = DecisionTreeClassifier()\n",
        "\n",
        "# fit the DT model\n",
        "dt_model.fit(X_train, y_train)"
      ],
      "execution_count": null,
      "outputs": [
        {
          "output_type": "execute_result",
          "data": {
            "text/plain": [
              "DecisionTreeClassifier(ccp_alpha=0.0, class_weight=None, criterion='gini',\n",
              "                       max_depth=None, max_features=None, max_leaf_nodes=None,\n",
              "                       min_impurity_decrease=0.0, min_impurity_split=None,\n",
              "                       min_samples_leaf=1, min_samples_split=2,\n",
              "                       min_weight_fraction_leaf=0.0, presort='deprecated',\n",
              "                       random_state=None, splitter='best')"
            ]
          },
          "metadata": {},
          "execution_count": 101
        }
      ]
    },
    {
      "cell_type": "markdown",
      "metadata": {
        "id": "LZ6IrzuDbY6R"
      },
      "source": [
        "### 4. Report confusion matrix and performance parameters\n"
      ]
    },
    {
      "cell_type": "code",
      "metadata": {
        "id": "Zdd_xHwSQTaG"
      },
      "source": [
        "# predict using the dt model\n",
        "y_pred = dt_model.predict(X_test)"
      ],
      "execution_count": null,
      "outputs": []
    },
    {
      "cell_type": "code",
      "metadata": {
        "id": "vV5j47LjbY6R",
        "colab": {
          "base_uri": "https://localhost:8080/"
        },
        "outputId": "896434b0-6eef-40f2-df1b-48738d6a981b"
      },
      "source": [
        "# create the confusion matrix\n",
        "from sklearn.metrics import confusion_matrix\n",
        "confusion_matrix(y_test, y_pred)"
      ],
      "execution_count": null,
      "outputs": [
        {
          "output_type": "execute_result",
          "data": {
            "text/plain": [
              "array([[ 97,  20],\n",
              "       [ 18, 101]])"
            ]
          },
          "metadata": {},
          "execution_count": 103
        }
      ]
    },
    {
      "cell_type": "code",
      "metadata": {
        "colab": {
          "base_uri": "https://localhost:8080/"
        },
        "id": "VBX--p9CT3qS",
        "outputId": "dbac38f5-00c9-42d9-81ee-73c5fb23a351"
      },
      "source": [
        "# plot report\n",
        "from sklearn.metrics import classification_report\n",
        "print(classification_report(y_test, y_pred))"
      ],
      "execution_count": null,
      "outputs": [
        {
          "output_type": "stream",
          "name": "stdout",
          "text": [
            "              precision    recall  f1-score   support\n",
            "\n",
            "           0       0.84      0.83      0.84       117\n",
            "           1       0.83      0.85      0.84       119\n",
            "\n",
            "    accuracy                           0.84       236\n",
            "   macro avg       0.84      0.84      0.84       236\n",
            "weighted avg       0.84      0.84      0.84       236\n",
            "\n"
          ]
        }
      ]
    },
    {
      "cell_type": "markdown",
      "metadata": {
        "id": "bULRN2itbY6S"
      },
      "source": [
        "### 5. Construct ROC curve and report AUC value.\n"
      ]
    },
    {
      "cell_type": "code",
      "metadata": {
        "id": "Vn4AOYzmbY6S",
        "colab": {
          "base_uri": "https://localhost:8080/",
          "height": 521
        },
        "outputId": "caca31ad-8df6-4ccf-c43f-19a5c5e42b14"
      },
      "source": [
        "# Plot Receiver operating characteristic (ROC) curve.\n",
        "metrics.plot_roc_curve(dt_model, X_test, y_test)\n",
        "plt.plot([0,1], [0,1], color='r', linestyle='--')\n",
        "plt.title('ROC Curve');"
      ],
      "execution_count": null,
      "outputs": [
        {
          "output_type": "display_data",
          "data": {
            "image/png": "[encoded data removed]",
            "text/plain": [
              "<Figure size 720x576 with 1 Axes>"
            ]
          },
          "metadata": {}
        }
      ]
    },
    {
      "cell_type": "markdown",
      "metadata": {
        "id": "3s3pILClbY6S"
      },
      "source": [
        "### 6. Check for over fitting by comparing f1-score for training vs test data.\n"
      ]
    },
    {
      "cell_type": "code",
      "metadata": {
        "id": "aY2hOmnwbY6S",
        "colab": {
          "base_uri": "https://localhost:8080/"
        },
        "outputId": "5b8f6507-abde-46c9-b2e8-3bbf0cad1f06"
      },
      "source": [
        "# check if DT is over fit or not\n",
        "metrics.accuracy_score(y_test, y_pred)"
      ],
      "execution_count": null,
      "outputs": [
        {
          "output_type": "execute_result",
          "data": {
            "text/plain": [
              "0.8389830508474576"
            ]
          },
          "metadata": {},
          "execution_count": 106
        }
      ]
    },
    {
      "cell_type": "code",
      "metadata": {
        "id": "OArvXhjb7aWC"
      },
      "source": [
        "# prediction on X_test, y_train and compare the values\n",
        "tree_predicted_test = dt_model.predict(X_test)\n",
        "tree_predicted_train = dt_model.predict(X_train)"
      ],
      "execution_count": null,
      "outputs": []
    },
    {
      "cell_type": "code",
      "metadata": {
        "colab": {
          "base_uri": "https://localhost:8080/"
        },
        "id": "snERifZs7-nT",
        "outputId": "09e4caae-4ab1-40f1-c554-8d9d5546712f"
      },
      "source": [
        "# print and compare the score\n",
        "print(\"The training accuracy score is: \", metrics.accuracy_score(tree_predicted_train, y_train))\n",
        "print(\"The testing accuracy score is: \", metrics.accuracy_score(tree_predicted_test, y_test))"
      ],
      "execution_count": null,
      "outputs": [
        {
          "output_type": "stream",
          "name": "stdout",
          "text": [
            "The training accuracy score is:  1.0\n",
            "The testing accuracy score is:  0.8389830508474576\n"
          ]
        }
      ]
    },
    {
      "cell_type": "markdown",
      "metadata": {
        "id": "aZa_6CX-bY6S"
      },
      "source": [
        "### 7. Fine tune Decision Tree parameter using GridSearch.\n"
      ]
    },
    {
      "cell_type": "code",
      "metadata": {
        "id": "hqv6pLjLbY6T",
        "colab": {
          "base_uri": "https://localhost:8080/"
        },
        "outputId": "e395e706-2e04-4ae4-f27e-340a3846d32a"
      },
      "source": [
        "# call the GridSearch class\n",
        "from sklearn.model_selection import GridSearchCV\n",
        "\n",
        "# specify what to search on\n",
        "param_dist_grid = {\n",
        "    'min_samples_leaf' : range(2,12,2),\n",
        "    'max_depth': range(2,30,2),\n",
        "    'criterion':['gini', 'entropy']\n",
        "}\n",
        "param_dist_grid"
      ],
      "execution_count": null,
      "outputs": [
        {
          "output_type": "execute_result",
          "data": {
            "text/plain": [
              "{'criterion': ['gini', 'entropy'],\n",
              " 'max_depth': range(2, 30, 2),\n",
              " 'min_samples_leaf': range(2, 12, 2)}"
            ]
          },
          "metadata": {},
          "execution_count": 109
        }
      ]
    },
    {
      "cell_type": "code",
      "metadata": {
        "id": "s_Qi5NXQCTwu"
      },
      "source": [
        "# standard estimator\n",
        "clf_tree = DecisionTreeClassifier()"
      ],
      "execution_count": null,
      "outputs": []
    },
    {
      "cell_type": "code",
      "metadata": {
        "id": "6UZO4NgiCbz4"
      },
      "source": [
        "clf = GridSearchCV(clf_tree, param_dist_grid)"
      ],
      "execution_count": null,
      "outputs": []
    },
    {
      "cell_type": "code",
      "metadata": {
        "colab": {
          "base_uri": "https://localhost:8080/"
        },
        "id": "n_5g0MpiCcn5",
        "outputId": "6282f1eb-3c0f-45eb-95a4-b9d73473b2fc"
      },
      "source": [
        "# fit X_train and y_train\n",
        "clf.fit(X_train, y_train)"
      ],
      "execution_count": null,
      "outputs": [
        {
          "output_type": "execute_result",
          "data": {
            "text/plain": [
              "GridSearchCV(cv=None, error_score=nan,\n",
              "             estimator=DecisionTreeClassifier(ccp_alpha=0.0, class_weight=None,\n",
              "                                              criterion='gini', max_depth=None,\n",
              "                                              max_features=None,\n",
              "                                              max_leaf_nodes=None,\n",
              "                                              min_impurity_decrease=0.0,\n",
              "                                              min_impurity_split=None,\n",
              "                                              min_samples_leaf=1,\n",
              "                                              min_samples_split=2,\n",
              "                                              min_weight_fraction_leaf=0.0,\n",
              "                                              presort='deprecated',\n",
              "                                              random_state=None,\n",
              "                                              splitter='best'),\n",
              "             iid='deprecated', n_jobs=None,\n",
              "             param_grid={'criterion': ['gini', 'entropy'],\n",
              "                         'max_depth': range(2, 30, 2),\n",
              "                         'min_samples_leaf': range(2, 12, 2)},\n",
              "             pre_dispatch='2*n_jobs', refit=True, return_train_score=False,\n",
              "             scoring=None, verbose=0)"
            ]
          },
          "metadata": {},
          "execution_count": 112
        }
      ]
    },
    {
      "cell_type": "code",
      "metadata": {
        "colab": {
          "base_uri": "https://localhost:8080/"
        },
        "id": "Xuy37KnOCfLz",
        "outputId": "24ffca0e-c65c-4cc8-e91b-deabf200f0a6"
      },
      "source": [
        "# print the tuned parameters and score\n",
        "print(\"Tuned Decision Tree parameters: \", clf.best_params_)\n",
        "print(\"Tuned Decision Tree Best Score is: \", clf.best_score_)"
      ],
      "execution_count": null,
      "outputs": [
        {
          "output_type": "stream",
          "name": "stdout",
          "text": [
            "Tuned Decision Tree parameters:  {'criterion': 'gini', 'max_depth': 4, 'min_samples_leaf': 6}\n",
            "Tuned Decision Tree Best Score is:  0.8356630525437865\n"
          ]
        }
      ]
    },
    {
      "cell_type": "markdown",
      "metadata": {
        "id": "1MCKa9UhbY6T"
      },
      "source": [
        "### 8. Show optimal parameters and performance metric post tuning step.\n"
      ]
    },
    {
      "cell_type": "code",
      "metadata": {
        "id": "6YCHUOt1bY6U"
      },
      "source": [
        "# call best estimator to find optimal params\n",
        "dt_model_best = clf.best_estimator_"
      ],
      "execution_count": null,
      "outputs": []
    },
    {
      "cell_type": "code",
      "metadata": {
        "id": "Z1Y1PydmE7TN"
      },
      "source": [
        "# predict X_test with the best estimator params\n",
        "y_pred_best = dt_model_best.predict(X_test)"
      ],
      "execution_count": null,
      "outputs": []
    },
    {
      "cell_type": "code",
      "metadata": {
        "colab": {
          "base_uri": "https://localhost:8080/"
        },
        "id": "XA8TOidpE7RM",
        "outputId": "3d5c6a25-80e5-4687-efc5-9c5b4ccc380a"
      },
      "source": [
        "# print classification report with best\n",
        "print(classification_report(y_test, y_pred_best))"
      ],
      "execution_count": null,
      "outputs": [
        {
          "output_type": "stream",
          "name": "stdout",
          "text": [
            "              precision    recall  f1-score   support\n",
            "\n",
            "           0       0.89      0.79      0.84       117\n",
            "           1       0.82      0.91      0.86       119\n",
            "\n",
            "    accuracy                           0.85       236\n",
            "   macro avg       0.86      0.85      0.85       236\n",
            "weighted avg       0.86      0.85      0.85       236\n",
            "\n"
          ]
        }
      ]
    },
    {
      "cell_type": "code",
      "metadata": {
        "id": "xCDe1YgJFAjR"
      },
      "source": [
        "# predict the best model on X_test, y_train and compare the values\n",
        "tree_predicted_test = dt_model_best.predict(X_test)\n",
        "tree_predicted_train = dt_model_best.predict(X_train)"
      ],
      "execution_count": null,
      "outputs": []
    },
    {
      "cell_type": "code",
      "metadata": {
        "colab": {
          "base_uri": "https://localhost:8080/"
        },
        "id": "Bgca2uIjFJGe",
        "outputId": "754ff825-7776-4540-eb6c-1906213328e3"
      },
      "source": [
        "# show the optimal scores\n",
        "print(\"The training accuracy score is: \", metrics.accuracy_score(tree_predicted_train, y_train))\n",
        "print(\"The testing accuracy score is: \", metrics.accuracy_score(tree_predicted_test, y_test))"
      ],
      "execution_count": null,
      "outputs": [
        {
          "output_type": "stream",
          "name": "stdout",
          "text": [
            "The training accuracy score is:  0.8996350364963503\n",
            "The testing accuracy score is:  0.8516949152542372\n"
          ]
        }
      ]
    },
    {
      "cell_type": "markdown",
      "metadata": {
        "id": "zBcpowuqbY6U"
      },
      "source": [
        "### 9. Show the top 5 most importance features\n"
      ]
    },
    {
      "cell_type": "code",
      "metadata": {
        "id": "jlijUGcLbY6U",
        "colab": {
          "base_uri": "https://localhost:8080/"
        },
        "outputId": "c5d3b9dc-b5bf-461f-ac8c-c0f56afb0720"
      },
      "source": [
        "# to see each importances features\n",
        "dt_model.feature_importances_"
      ],
      "execution_count": null,
      "outputs": [
        {
          "output_type": "execute_result",
          "data": {
            "text/plain": [
              "array([0.00987561, 0.03724081, 0.02347233, 0.        , 0.00592537,\n",
              "       0.        , 0.        , 0.        , 0.        , 0.        ,\n",
              "       0.02454638, 0.03617416, 0.02506753, 0.        , 0.00596064,\n",
              "       0.        , 0.10412942, 0.02051471, 0.        , 0.05357674,\n",
              "       0.45267018, 0.01693935, 0.0142487 , 0.02531432, 0.03495372,\n",
              "       0.0542593 , 0.02417298, 0.        , 0.01836635, 0.0125914 ])"
            ]
          },
          "metadata": {},
          "execution_count": 115
        }
      ]
    },
    {
      "cell_type": "code",
      "metadata": {
        "colab": {
          "base_uri": "https://localhost:8080/"
        },
        "id": "gT7k_VKrFp1m",
        "outputId": "cb4e1116-062b-4ed1-c439-2d586ee1a4c9"
      },
      "source": [
        "# show each columns\n",
        "X.columns"
      ],
      "execution_count": null,
      "outputs": [
        {
          "output_type": "execute_result",
          "data": {
            "text/plain": [
              "Index(['close', 'volume', 'SMA_10', 'SMA_50', 'SMA_200', 'EMA_10', 'EMA_50',\n",
              "       'EMA_200', 'macd', 'signal', 'divergence', 'PPO', 'RSI', 'dn', 'mavg',\n",
              "       'up', 'pctB', 'fastK', 'fastD', 'slowD', 'KDJ', 'SMI', 'signal.1',\n",
              "       'MAD', 'WPR', 'CCI', 'adx', 'Typical_Price', 'Money_Flow_Ratio',\n",
              "       'Money_Flow_Index'],\n",
              "      dtype='object')"
            ]
          },
          "metadata": {},
          "execution_count": 116
        }
      ]
    },
    {
      "cell_type": "code",
      "metadata": {
        "colab": {
          "base_uri": "https://localhost:8080/"
        },
        "id": "DCqyRc50Fv--",
        "outputId": "599343d0-d17d-44dd-ed0c-6e9d93653bff"
      },
      "source": [
        "# show top 5 importance with name\n",
        "for importance, name in sorted(zip(dt_model.feature_importances_, X.columns),reverse=True)[:5]:\n",
        "    print (name, importance)"
      ],
      "execution_count": null,
      "outputs": [
        {
          "output_type": "stream",
          "name": "stdout",
          "text": [
            "KDJ 0.45267018447284807\n",
            "pctB 0.10412942026213702\n",
            "CCI 0.054259300792702685\n",
            "slowD 0.053576744801849305\n",
            "volume 0.037240809248431955\n"
          ]
        }
      ]
    },
    {
      "cell_type": "code",
      "metadata": {
        "id": "Cyjci2GvF_ly"
      },
      "source": [
        "# define the features and the importances\n",
        "features = X_train.columns\n",
        "importances = dt_model.feature_importances_\n",
        "\n",
        "# get the indices of these importance\n",
        "indices = np.argsort(importances) #Returns the indices that would sort an array"
      ],
      "execution_count": null,
      "outputs": []
    },
    {
      "cell_type": "code",
      "metadata": {
        "colab": {
          "base_uri": "https://localhost:8080/",
          "height": 358
        },
        "id": "OGUUAi6yHEWE",
        "outputId": "df6049a8-1046-4b9f-925b-50524139e139"
      },
      "source": [
        "# Customized number\n",
        "num_features = 5\n",
        "\n",
        "plt.figure(figsize=(5,5))\n",
        "plt.title('Feature Importances')\n",
        "\n",
        "# only plot the customized number of features\n",
        "plt.barh(range(num_features), importances[indices[-num_features:]], color='b', align='center')\n",
        "plt.yticks(range(num_features), [features[i] for i in indices[-num_features:]])\n",
        "plt.xlabel('Relative Importance')\n",
        "plt.show()"
      ],
      "execution_count": null,
      "outputs": [
        {
          "output_type": "display_data",
          "data": {
            "image/png": "[encoded data removed]",
            "text/plain": [
              "<Figure size 360x360 with 1 Axes>"
            ]
          },
          "metadata": {}
        }
      ]
    },
    {
      "cell_type": "markdown",
      "metadata": {
        "id": "qpGuz5DJbY6U"
      },
      "source": [
        "### 10. Summarize your findings and discuss your results."
      ]
    },
    {
      "cell_type": "markdown",
      "metadata": {
        "id": "YXlPHLZ8Hhas"
      },
      "source": [
        ">When we first got our training accuracy score was 1.0(equals to 100%), on the testing accuracy score we had 0.84(84%). This means that the decision tree is over-fitting. Therefore, we optimized the decision tree by using GridSearch. We got our result values of training accuracy score is 0.90(90%) and it is closer to the testing accuracy score is 0.85(85%). Now we have an improved estimator that is prompt to over fit. It doesn't take all the data points and learn it on the training and didn't do well on the testing. We eliminate the datas from over-fitting.\n",
        "\n",
        ">The bar chart above shows the top 5 most imortance features which are KDj, pctB, CCI, slowD and PPO. We can see that the most important features would be KDJ and pctB. Maybe we could eliminate and simplify the models by only using the top 2 highest importance features since CCI, slowD and PPO's importance are nearly equals to zero."
      ]
    }
  ]
}